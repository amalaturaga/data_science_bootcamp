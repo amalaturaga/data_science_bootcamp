{
 "cells": [
  {
   "cell_type": "markdown",
   "metadata": {},
   "source": [
    "## Deep Dive into Operators"
   ]
  },
  {
   "cell_type": "code",
   "execution_count": 3,
   "metadata": {},
   "outputs": [
    {
     "name": "stdout",
     "output_type": "stream",
     "text": [
      "15\n",
      "5\n",
      "50\n",
      "2.0\n",
      "2\n",
      "0\n",
      "100000\n"
     ]
    }
   ],
   "source": [
    "## Arithmetic Operation\n",
    "\n",
    "a = 10\n",
    "b = 5\n",
    "\n",
    "add_result = a + b #addition\n",
    "sub_result = a - b #subtraction\n",
    "mult_result = a * b #multiplication\n",
    "div_result = a / b #division\n",
    "floor_div_results = a // b #floor division\n",
    "modulus_result = a % b #modulus operation (remainder)\n",
    "expo_result = a**b #exponent\n",
    "\n",
    "print(add_result)\n",
    "print(sub_result)\n",
    "print(mult_result)\n",
    "print(div_result)\n",
    "print(floor_div_results)\n",
    "print(modulus_result)\n",
    "print(expo_result)"
   ]
  },
  {
   "cell_type": "markdown",
   "metadata": {},
   "source": [
    "### Comparison Operators"
   ]
  },
  {
   "cell_type": "code",
   "execution_count": 13,
   "metadata": {},
   "outputs": [
    {
     "name": "stdout",
     "output_type": "stream",
     "text": [
      "True\n",
      "False\n",
      "True\n"
     ]
    }
   ],
   "source": [
    "## Comparison Operators\n",
    "## ==, compares the value that is presented in this datatype\n",
    "\n",
    "a = 10\n",
    "b = 10\n",
    "\n",
    "a==b #output true\n",
    "\n",
    "# Another example\n",
    "str1 = \"Amala\"\n",
    "str2 = \"Amala\"\n",
    "\n",
    "result1= str1 == str2 #output true\n",
    "print(result1)\n",
    "\n",
    "## Not equal to !=\n",
    "result2 = str1!=str2 #output false\n",
    "print(result2)\n",
    "\n",
    "str3 = \"Amala\"\n",
    "str4 = \"amala\"\n",
    "\n",
    "result3 = str3!=str4 #output true\n",
    "print(result3)\n",
    "\n"
   ]
  },
  {
   "cell_type": "code",
   "execution_count": 18,
   "metadata": {},
   "outputs": [
    {
     "data": {
      "text/plain": [
       "True"
      ]
     },
     "execution_count": 18,
     "metadata": {},
     "output_type": "execute_result"
    }
   ],
   "source": [
    "# Greater than >\n",
    "num1 = 45\n",
    "num2 = 55\n",
    "\n",
    "num1>num2 #false\n",
    "\n",
    "# Less than <\n",
    "num1<num2 #true\n",
    "\n",
    "# Greater than or equal to\n",
    "num3 = 45\n",
    "num4 = 45\n",
    "\n",
    "num3>=num4 #true\n",
    "\n",
    "# Less than or equal to\n",
    "num3<=num4 #true"
   ]
  },
  {
   "cell_type": "markdown",
   "metadata": {},
   "source": [
    "### Logical Operators"
   ]
  },
  {
   "cell_type": "code",
   "execution_count": 19,
   "metadata": {},
   "outputs": [
    {
     "name": "stdout",
     "output_type": "stream",
     "text": [
      "True\n"
     ]
    }
   ],
   "source": [
    "## And, Not, OR\n",
    "X = True\n",
    "Y = True\n",
    "\n",
    "result = X and Y\n",
    "print(result)"
   ]
  },
  {
   "cell_type": "code",
   "execution_count": 21,
   "metadata": {},
   "outputs": [
    {
     "name": "stdout",
     "output_type": "stream",
     "text": [
      "True\n"
     ]
    }
   ],
   "source": [
    "## OR\n",
    "X = True\n",
    "Y = False\n",
    "\n",
    "result = X or Y\n",
    "print(result)"
   ]
  },
  {
   "cell_type": "code",
   "execution_count": 23,
   "metadata": {},
   "outputs": [
    {
     "data": {
      "text/plain": [
       "True"
      ]
     },
     "execution_count": 23,
     "metadata": {},
     "output_type": "execute_result"
    }
   ],
   "source": [
    "## Not\n",
    "X = False\n",
    "not X\n"
   ]
  },
  {
   "cell_type": "code",
   "execution_count": 24,
   "metadata": {},
   "outputs": [
    {
     "name": "stdout",
     "output_type": "stream",
     "text": [
      "Addition:  16.0\n",
      "Subtraction:  8.0\n",
      "Multiplication:  48.0\n",
      "Division:  3.0\n",
      "Floor Division:  3.0\n",
      "Modulus:  0.0\n",
      "Exponentiation: 20736.0\n"
     ]
    }
   ],
   "source": [
    "## Simple Calculator\n",
    "num1 = float(input(\"Enter first number: \"))\n",
    "num2 = float(input(\"Enter second number: \"))\n",
    "\n",
    "# Performing arithmetic operations\n",
    "addition = num1 + num2\n",
    "subtraction = num1 - num2\n",
    "multiplication = num1 * num2\n",
    "division = num1 / num2\n",
    "floor_division = num1 // num2\n",
    "modulus = num1 % num2\n",
    "exponentiation = num1 ** num2\n",
    "\n",
    "# Displaying results\n",
    "print(\"Addition: \", addition)\n",
    "print(\"Subtraction: \", subtraction)\n",
    "print(\"Multiplication: \", multiplication)\n",
    "print(\"Division: \", division)\n",
    "print(\"Floor Division: \", floor_division)\n",
    "print(\"Modulus: \", modulus)\n",
    "print(\"Exponentiation:\", exponentiation)"
   ]
  }
 ],
 "metadata": {
  "kernelspec": {
   "display_name": "Python 3",
   "language": "python",
   "name": "python3"
  },
  "language_info": {
   "codemirror_mode": {
    "name": "ipython",
    "version": 3
   },
   "file_extension": ".py",
   "mimetype": "text/x-python",
   "name": "python",
   "nbconvert_exporter": "python",
   "pygments_lexer": "ipython3",
   "version": "3.12.0"
  }
 },
 "nbformat": 4,
 "nbformat_minor": 2
}
