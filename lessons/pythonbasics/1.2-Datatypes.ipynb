{
 "cells": [
  {
   "cell_type": "markdown",
   "metadata": {},
   "source": [
    "## Data Types\n",
    "\n",
    "#### 1. Definition:\n",
    "<ul>\n",
    "    <li>Data types are a classification of data which tell the compiler or interpreter how the programmer intends to use the data.</li>\n",
    "    <li>They determine the type of operation that can be performed on the data, the values that the data can take, and the amount of memory needed to store the data.</li>\n",
    "</ul>\n",
    "\n",
    "#### 2. Importance of Data Types in Programming\n",
    "\n",
    "##### Explanation:\n",
    "\n",
    "<ul>\n",
    "    <li>Data types ensure that data is stored in an efficient way.</li>\n",
    "    <li>They help in performing correct operations on data.</li>\n",
    "    <li>Proper use of data types can prevent errors and bugs in the program.</li>\n",
    "</ul>"
   ]
  },
  {
   "cell_type": "code",
   "execution_count": 4,
   "metadata": {},
   "outputs": [
    {
     "data": {
      "text/plain": [
       "int"
      ]
     },
     "execution_count": 4,
     "metadata": {},
     "output_type": "execute_result"
    }
   ],
   "source": [
    "## Integers Example\n",
    "age = 22\n",
    "type(age)"
   ]
  },
  {
   "cell_type": "code",
   "execution_count": 3,
   "metadata": {},
   "outputs": [
    {
     "name": "stdout",
     "output_type": "stream",
     "text": [
      "5.2\n",
      "<class 'float'>\n"
     ]
    }
   ],
   "source": [
    "## Floating point datatype\n",
    "height = 5.2\n",
    "print(height)\n",
    "print(type(height))"
   ]
  },
  {
   "cell_type": "code",
   "execution_count": 5,
   "metadata": {},
   "outputs": [
    {
     "name": "stdout",
     "output_type": "stream",
     "text": [
      "Amala\n",
      "<class 'str'>\n"
     ]
    }
   ],
   "source": [
    "## String datatype example\n",
    "name = \"Amala\"\n",
    "print(name)\n",
    "print(type(name))"
   ]
  },
  {
   "cell_type": "code",
   "execution_count": 14,
   "metadata": {},
   "outputs": [
    {
     "data": {
      "text/plain": [
       "bool"
      ]
     },
     "execution_count": 14,
     "metadata": {},
     "output_type": "execute_result"
    }
   ],
   "source": [
    "## Boolean datatype\n",
    "is_true = True\n",
    "type(is_true)\n",
    "\n",
    "a = 10\n",
    "b = 10\n",
    "\n",
    "a==b\n",
    "type(a==b)"
   ]
  },
  {
   "cell_type": "code",
   "execution_count": 16,
   "metadata": {},
   "outputs": [
    {
     "name": "stdout",
     "output_type": "stream",
     "text": [
      "Hello5\n"
     ]
    }
   ],
   "source": [
    "## Common errors\n",
    "\n",
    "# result = \"Hello\" + 5\n",
    "\n",
    "result = \"Hello\" + str(5)\n",
    "print(result)"
   ]
  }
 ],
 "metadata": {
  "kernelspec": {
   "display_name": "Python 3",
   "language": "python",
   "name": "python3"
  },
  "language_info": {
   "codemirror_mode": {
    "name": "ipython",
    "version": 3
   },
   "file_extension": ".py",
   "mimetype": "text/x-python",
   "name": "python",
   "nbconvert_exporter": "python",
   "pygments_lexer": "ipython3",
   "version": "3.12.0"
  }
 },
 "nbformat": 4,
 "nbformat_minor": 2
}
